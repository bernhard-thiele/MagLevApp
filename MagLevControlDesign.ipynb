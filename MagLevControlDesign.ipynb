{
 "cells": [
  {
   "cell_type": "markdown",
   "metadata": {
    "slideshow": {
     "slide_type": "slide"
    }
   },
   "source": [
    "# Controller Design for a Magnetic Levitation Kit using OpenModelica’s Integration with the Julia Language\n",
    "\n",
    "Jupyter notebook accompanying the corresponding conference talk on the 13th Int. Modelica Conference:\n",
    "\n",
    "Bernhard Thiele, Bernt Lie, Martin Sjölund, Adrian Pop, and Peter Fritzson. Controller Design for a Magnetic Levitation Kit using OpenModelica’s Integration with the Julia Language. In Anton Haumer, editor, 13th Int. Modelica Conference, Regensburg, Germany, March 2019. [doi:10.3384/ecp19157303](https://www.doi.org/10.3384/ecp19157303).\n",
    "\n",
    "As of 2019-03-05 the descriptive text is not complete (see the full paper for missing details), but the relevant code is included and can be executed.\n",
    "\n",
    "Feedback for improving the notebook or other aspects of the design is welcome..."
   ]
  },
  {
   "cell_type": "markdown",
   "metadata": {
    "slideshow": {
     "slide_type": "slide"
    }
   },
   "source": [
    "## Motivation: Is it possible to combine the strengths of Modelica and Julia?!\n",
    "\n",
    "- Modelica\n",
    "  - Well established for modeling complex technical systems using an equation-based declarative modeling style\n",
    "  - Imperative part for writing algorithms can (in principle) be used for numerical computing tasks or scripting tasks\n",
    "  - However, support in tools as scripting language has so far remained limited and rather tool specific\n",
    "  - No rich ecosystem for typical numerical computing tasks like data analysis, advanced data visualization, control design\n",
    "- Julia\n",
    "  - Rather young language (Julia 1.0 was released in August 2018) designed to address the needs of numerical analysis and computational science\n",
    "  - Convenient and concise syntax for working with arrays and matrices (similar to Matlab or Modelica)\n",
    "  - Has attracted a growing user base in the scientific computing community\n",
    "  - Rich ecosystem for numerical computing tasks, including decent support for the control community\n",
    "\n",
    "  Approach taken at LiU: Develop a bridge from Julia to OpenModelica (OMJulia)  \n",
    "  **Motivation: Evaluate approach using an interesting and fun control design use case**"
   ]
  },
  {
   "cell_type": "markdown",
   "metadata": {
    "slideshow": {
     "slide_type": "slide"
    }
   },
   "source": [
    "## Use Case: Digital Control for a Magnetic Levitation Kit\n",
    "\n",
    "- Magnetic levitation is a popular application for teaching control theory\n",
    "- Underlying physics (unstable plant dynamics) convincingly demonstrate the importance of feedback control\n",
    "- Application based on a commercially available electromagnetic levitation kit from Zeltom (http://zeltom.com/product/magneticlevitation)\n",
    "\n",
    "<img src=\"images/MagLevKit.png\" alt=\"Zeltom's Electromagnetic Levitation Kit\" title=\"Zeltom's Electromagnetic Levitation Kit\"/>\n",
    "\n",
    "**Goal: Replace Zeltom’s controller by our own design**"
   ]
  },
  {
   "cell_type": "markdown",
   "metadata": {
    "slideshow": {
     "slide_type": "slide"
    }
   },
   "source": [
    "## Plant Model (From Zeltom‘s Technical Documentation)\n",
    "\n",
    "Approximated force from the electromagnet on the levitating magnet:\n",
    "\n",
    "$f = k\\frac{i}{d^4},$\n",
    "\n",
    "approximated voltage across the Hall effect sensor:\n",
    "\n",
    "$e = \\alpha + \\beta\\frac{1}{d^2} + \\gamma i,$\n",
    "\n",
    "Newton’s second law:\n",
    "\n",
    "$m\\frac{\\mathrm{d}^2 d}{\\mathrm{d}\\,t^2} = mg - f,$\n",
    "\n",
    "Kirchhoff's voltage law:\n",
    "\n",
    "$v = Ri + L\\frac{\\mathrm{d} i}{\\mathrm{d}\\,t},$\n",
    "\n",
    "\n",
    "where $k$ is a geometry dependent constant, $\\alpha,\\beta,\\gamma$ are constants that depend on the Hall sensor and geometry, $g$ is the standard gravity constant, $R$ is the resistance and $L$ the inductance of the electromagnet.\n",
    "\n",
    "<img src=\"images/MagLevSchematics.png\" alt=\"Schematic of the magnetic levitation system\" title=\"Schematic of the magnetic levitation system\"/>\n"
   ]
  },
  {
   "cell_type": "markdown",
   "metadata": {
    "slideshow": {
     "slide_type": "slide"
    }
   },
   "source": [
    "## Corresponding Nonlinear Modelica Model\n",
    "\n",
    "```modelica\n",
    "model MagLevNL\n",
    "  parameter Real R=2.41, L=15.03e-3, m=3.02e-3, k=17.31e-9, alpha=2.44, beta=1.12e-4, gamma=0.26;\n",
    "  input Real v;\n",
    "  output Real e;\n",
    "  parameter Real i0, d0, d_der0;\n",
    "  Real i(start=i0,fixed=true), d(start=d0,fixed=true), d_der(start=d_der0,fixed=true), f;\n",
    "  constant Real g=9.81;\n",
    "equation\n",
    "  f = k*i/d^4;\n",
    "  e = alpha + beta*1/d^2 + gamma*i;\n",
    "  der(d) = d_der;\n",
    "  m*der(d_der) = m*g - f;\n",
    "  v = R*i + L*der(i);\n",
    "end MagLevNL;\n",
    "```"
   ]
  },
  {
   "cell_type": "markdown",
   "metadata": {
    "slideshow": {
     "slide_type": "slide"
    }
   },
   "source": [
    "## OMJulia, an API for Interacting with Modelica Models from the Julia Language\n",
    "\n",
    "- OMJulia is a Julia package which  provides a Julia API to OpenModelica\n",
    "- Details: Bernt Lie, Arunkumar Palanisamy, Alachew Mengist, Lena Buffoni, Martin Sjölund, Adeel Asghar, Adrian Pop, and Peter Fritzson. OMJulia: An OpenModelica API for Julia-Modelica Interaction. In Anton Haumer, editor, _13th Int. Modelica Conference_, Regensburg, Germany, March 2019. [doi:10.3384/ecp19157699](http://dx.doi.org/doi:10.3384/ecp19157699).\n",
    "\n",
    "Installs via the standard (Git-based) Julia package manager:\n",
    "\n",
    "```julia\n",
    "Pkg.clone(\"https://github.com/OpenModelica/OMJulia.jl\")\n",
    "```\n",
    "\n",
    "**Low-level API**: Simply send OpenModelica script string commands"
   ]
  },
  {
   "cell_type": "code",
   "execution_count": null,
   "metadata": {},
   "outputs": [],
   "source": [
    "using OMJulia"
   ]
  },
  {
   "cell_type": "code",
   "execution_count": null,
   "metadata": {
    "slideshow": {
     "slide_type": "subslide"
    }
   },
   "outputs": [],
   "source": [
    "omc = OMJulia.OMCSession()\n",
    "sendExpression(omc, \"getVersion()\")"
   ]
  },
  {
   "cell_type": "markdown",
   "metadata": {
    "slideshow": {
     "slide_type": "subslide"
    }
   },
   "source": [
    "**High-Level API**: Create ModelicaSystems object"
   ]
  },
  {
   "cell_type": "code",
   "execution_count": null,
   "metadata": {
    "slideshow": {
     "slide_type": "subslide"
    }
   },
   "outputs": [],
   "source": [
    "mlNL = OMJulia.OMCSession()\n",
    "ModelicaSystem(mlNL, \"MagLevNL.mo\",  \"MagLevNL\")\n",
    "getParameters(mlNL)"
   ]
  },
  {
   "cell_type": "markdown",
   "metadata": {},
   "source": [
    "Julia packages used within this notebook (need to be installed by the package manager):\n",
    "\n",
    "- OMJulia\n",
    "- ControlSystems\n",
    "- Interact\n",
    "- Plots\n",
    "- PyPlot\n",
    "- CSV\n",
    "- LaTeXStrings"
   ]
  },
  {
   "cell_type": "markdown",
   "metadata": {},
   "source": [
    "## Used Control Design Approach\n",
    "\n",
    "1. Linearize plant around an equilibrium position at $d=0.02$ m\n",
    "2. Design a stabilizing continuous-time controller using the linear model\n",
    "3. Test and tune the synthesized controller by plugging it into the nonlinear Modelica model\n",
    "4. Emulate the continuous-time controller by a discrete-time approximation\n",
    "5. Test and tune the controller in a more detailed closed-loop sampled-data model\n",
    "6. Generated real-time code for the Arduino Uno\n",
    "7. Control the maglev system using an Arduino Uno and supporting electronics"
   ]
  },
  {
   "cell_type": "markdown",
   "metadata": {},
   "source": [
    "## 1. Linearization ─ Find Equilibrium Position\n",
    "\n",
    "Would like something similar to\n",
    "\n",
    "```julia\n",
    "mlNL = OMJulia.OMCSession()\n",
    "ModelicaSystem(mlNL, \"MagLevNL.mo\", \"MagLevNL\")\n",
    "state_e, u_e, y_e = findEquilibrium(mlNL, [\"d=0.02\", \"d_der=0\"])\n",
    "```\n",
    "\n",
    "But unfortunately no function `findEquilibrium` exists (yet).\n",
    "\n",
    "Workaround: Use Modelica's steady-state initialization facilities for finding the desired equilibrium position.\n",
    "\n",
    "Create an augmented version of the `MagLevNL` model with steady-state initialization:\n",
    "\n",
    "```modelica\n",
    "model MagLevNL_SteadyState\n",
    "  parameter Real R=2.41, L=15.03e-3, m=3.02e-3, k=17.31e-9, alpha=2.44, beta=1.12e-4, gamma=0.26;\n",
    "  parameter Real d0 = 0.02 \"Prescribed equilibrium position\";\n",
    "  parameter Real v(start=0.5, fixed=false) \"Unknown equilibrium voltage accross the electromagnet\";\n",
    "  output Real e;\n",
    "  Real i, d, d_der, f;\n",
    "  constant Real g=9.81;\n",
    "equation\n",
    "  f = k*i/d^4;\n",
    "  e = alpha + beta*1/d^2 + gamma*i;\n",
    "  der(d) = d_der;\n",
    "  m*der(d_der) = m*g - f;\n",
    "  v = R*i + L*der(i);\n",
    "initial equation\n",
    "  d = d0;\n",
    "  der(d) = 0;\n",
    "  der(d_der) = 0;\n",
    "  der(i) = 0;\n",
    "end MagLevNL_SteadyState;\n",
    "```\n",
    "\n",
    "Now following Julia code can be used for retrieving the linearized model:"
   ]
  },
  {
   "cell_type": "code",
   "execution_count": null,
   "metadata": {},
   "outputs": [],
   "source": [
    "using OMJulia, Printf\n",
    "mlNLe = OMJulia.OMCSession()\n",
    "ModelicaSystem(mlNLe, \"MagLevNL_SteadyState.mo\", \"MagLevNL_SteadyState\")\n",
    "setParameters(mlNLe, [\"d0=0.02\"])\n",
    "simulate(mlNLe)\n",
    "sol = getSolutions(mlNLe, [\"v\",\"i\",\"d\",\"d_der\",\"e\"])\n",
    "v_e = sol[1][1] # input v at equilibrium\n",
    "i_e = sol[2][1] # state i at equilibrium\n",
    "d_e = sol[3][1] # state d, must be equal d0\n",
    "d_der_e = sol[4][1] # state d_der, must be 0\n",
    "e_e = sol[5][1] # output e at equilibrium\n",
    "@printf(\"v_e=%0.2f, i_e=%0.2f, d_e=%0.2f, d_der_e=%0.2f, e_e=%0.2f\\n\", v_e, i_e, d_e, d_der_e, e_e)\n",
    "\n",
    "mlNL = OMJulia.OMCSession()\n",
    "ModelicaSystem(mlNL, \"MagLevNL.mo\",\"MagLevNL\")\n",
    "setInputs(mlNL, [\"v=$v_e\"])\n",
    "setParameters(mlNL, [\"i0=$i_e\", \"d0=$d_e\", \"d_der0=$d_der_e\"])\n",
    "A,B,C,D = linearize(mlNL)\n",
    "println(\"A=\", A, \"\\nB=\", B, \"\\nC=\", C, \"\\nD=\", D)\n",
    "#println(\"A=$A\\nB=$B\\nC=$C\\nD=$D\")\n"
   ]
  },
  {
   "cell_type": "markdown",
   "metadata": {},
   "source": [
    "`linearize()` performs a simulation and retrieves a tuple of 2D arrays (matrices) encoding the linearized model ($\\dot{x}=Ax+Bu, y=Cx+Du$) at the end of the simulation (`stopTime`).\n",
    "\n",
    "A couple of options can be set, e.g., to set the `stopTime` at which the linearization is carried out."
   ]
  },
  {
   "cell_type": "markdown",
   "metadata": {},
   "source": [
    "## 2. Control Design\n",
    "\n",
    "### Create linear time-invariant model of plant\n",
    "\n",
    "Create LTI model from the previously retrieved matrices using the ControlSystems.jl package:"
   ]
  },
  {
   "cell_type": "code",
   "execution_count": null,
   "metadata": {},
   "outputs": [],
   "source": [
    "using ControlSystems\n",
    "mlLin = ss(A,B,C,D)"
   ]
  },
  {
   "cell_type": "markdown",
   "metadata": {},
   "source": [
    "The magnetic levitation system is open-loop unstable:"
   ]
  },
  {
   "cell_type": "code",
   "execution_count": null,
   "metadata": {},
   "outputs": [],
   "source": [
    "pole(mlLin)"
   ]
  },
  {
   "cell_type": "markdown",
   "metadata": {},
   "source": [
    "The state space representation `mlLin` can be converted to a transfer function representation:"
   ]
  },
  {
   "cell_type": "code",
   "execution_count": null,
   "metadata": {},
   "outputs": [],
   "source": [
    "G = tf(mlLin)"
   ]
  },
  {
   "cell_type": "markdown",
   "metadata": {},
   "source": [
    "### Some Definitions\n",
    "\n",
    "It is known that a *PD controller* is capable of stabilizing the magnetic levitation system at hand:\n",
    "\n",
    "$C_{PD}(s) = K_p(T_d s+1),$\n",
    "\n",
    "where $K_p$ is the proportional gain and $T_d$ the derivative time parameter.\n",
    "\n",
    "Using the plant's transfer function $G(s)$, the open-loop transfer function is given by:\n",
    "\n",
    "$P_{PDol} = C_{PD}(s) G(s)$.\n",
    "\n",
    "As a measure for the *robustness* of a design the *sensitivity function* $S(s)$ is used (it describes the transfer function from an external disturbance to the process output). It is given by\n",
    "\n",
    "$S(s) = \\frac{1}{1+P_{PDol}(s)}$\n",
    "\n",
    "**Approach: Use the sensitivity function for designing a reasonable robust controller.**"
   ]
  },
  {
   "cell_type": "markdown",
   "metadata": {},
   "source": [
    "### Interactive Plots for Parameter Tuning\n",
    "\n",
    "Combining the Interact.jl and ControlSystems.jl package enables interactive plots in which the controller’s parameters can be tuned experimentally"
   ]
  },
  {
   "cell_type": "code",
   "execution_count": null,
   "metadata": {},
   "outputs": [],
   "source": [
    "using Interact\n",
    "s = tf(\"s\")\n",
    "ui = @manipulate for Kp = 3:.5:20, Td = 0.01:.01:0.1\n",
    "  PD = Kp*(Td*s + 1)\n",
    "  mlLinPDol = series(PD,G)\n",
    "  mlLinPDSensitivity = minreal(1/(1+mlLinPDol))\n",
    "  bodeplot(mlLinPDSensitivity,plotphase=false,yscale=:identity,yticks = 0:0.2:4,title=\"Sensitivity\")\n",
    "end"
   ]
  },
  {
   "cell_type": "markdown",
   "metadata": {},
   "source": [
    "## 3. Test PD Controller in the Nonlinear Closed-Loop Model\n",
    "\n",
    "- The PD controller can be transcribed into Modelica code and can be added to the \"MagLev\" model\n",
    "- Let the resulting model be named \"MagLevNLPD\""
   ]
  },
  {
   "cell_type": "code",
   "execution_count": null,
   "metadata": {},
   "outputs": [],
   "source": [
    "using OMJulia, Plots, Interact\n",
    "\n",
    "mlNLPD = OMJulia.OMCSession()\n",
    "ModelicaSystem(mlNLPD, \"MagLevNLPD.mo\",\"MagLevNLPD\")\n",
    "setSimulationOptions(mlNLPD, [\"stopTime=0.5\", \"tolerance=1e-8\"])\n",
    "gr(size=(700,300))\n",
    "@manipulate for Kp = 7:.5:23, Td = 0.01:.01:0.1, d0 = 0.015:0.0002:0.025\n",
    "  setParameters(mlNLPD, [\"Kp=$Kp\", \"Td=$Td\", \"d0=$d0\"])\n",
    "  simulate(mlNLPD)\n",
    "  sol = getSolutions(mlNLPD, [\"time\", \"d\", \"v\"])\n",
    "  time, d, v = sol[1], sol[2], sol[3]\n",
    "  p1 = plot(time, d, label=\"\", xlabel=\"time [s]\", ylabel=\"d [m]\")\n",
    "  p2 = plot(time, v, label=\"\", xlabel=\"time [s]\", ylabel=\"v [V]\")\n",
    "  plot(p1,p2,layout=(1,2))\n",
    "end"
   ]
  },
  {
   "cell_type": "markdown",
   "metadata": {},
   "source": [
    "**Combining OMJulia with the Interact package allows to quickly create small GUIs for interactive experimentation with a Modelica model**"
   ]
  },
  {
   "cell_type": "markdown",
   "metadata": {},
   "source": [
    "## 4. Digital Control\n",
    "\n",
    "### Discrete-Time Approximation\n",
    "\n",
    "For a practical implementation the derivative \"$D$\" part is first approximated by a \"$DT_1$\":\n",
    "\n",
    "$sT_{d}\\approx\\frac{sT_{d}}{1+sT_{d}/N_{d}}$\n",
    "\n",
    "where $N_d$ limits the gain at high frequencies (typically:\n",
    "$3\\leq N_{d}\\leq 20$). Therefore, the structure of the controller becomes\n",
    "\n",
    "$C_{PDT_{1}}(s) = K_P\\left( \\frac{T_{d}s}{\\frac{T_{d}}{N_{d}}s + 1} + 1\\right).$\n",
    "\n",
    "Using backward differences the transfer function can be transformed into a pulse-transfer function by substituting $s$ by $s'$ using the formula\n",
    "\n",
    "$s' = \\frac{z - 1}{zh},$\n",
    "\n",
    "where $h$ is the sampling period and $z$ is the Z-transform variable, resulting in the pulse-transfer function\n",
    "\n",
    "$C_{PDT_{1}}(z) = K_p \\left(\\frac{T_d N_d(z - 1)}{(T_d + N_d h)z - T_d} + 1\\right).$\n",
    "\n",
    "The pulse-transfer function can be readily transformed into a recurrance relation which directly translates into Modelica code.\n",
    "\n",
    "### Discretized controller using Modelica’s clocked synchronous language elements\n",
    "\n",
    "```modelica\n",
    "block Controller\n",
    "  parameter Real Kp=15, Td=0.05, Nd=5, h=0.0005, v_e=0.66, e_e=2.79;\n",
    "  input Real du_set \"Setpoint delta voltage (=0 for d=>0.02)\";\n",
    "  input Real e \"Measured voltage across the Hall effect sensor\";\n",
    "  output Real v \"Output voltage to the electromagnet\";\n",
    "protected\n",
    "  Real Dpart(start=0), de_e, du(start=0), dy, ad, bd;\n",
    "equation\n",
    "  // Measured delta voltage at OP\n",
    "  de_e = e - e_e;\n",
    "  // input to PD(T1) control law\n",
    "  du = du_set - de_e;\n",
    "\n",
    "  // Control law\n",
    "  ad = Td/((Td + Nd*h));\n",
    "  bd = Td*Nd/(Td + Nd*h);\n",
    "  Dpart =  ad * previous(Dpart) + bd * (du - previous(du));\n",
    "  dy = Kp*(du + Dpart);\n",
    "\n",
    "  // Output voltage to electromagnet\n",
    "  v = dy + v_e;\n",
    "end Controller;\n",
    "```"
   ]
  },
  {
   "cell_type": "markdown",
   "metadata": {},
   "source": [
    "## 5. Sampled-Data Model\n",
    "\n",
    "### Target Hardware Arduino Uno Board\n",
    "\n",
    "- Microcontroller\n",
    "  - ATmega328P (16 MHz), 2 KB SRAM, 32 KB flash memory\n",
    "- Analog input pins\n",
    "  - 6 (10-bit ADC, voltage range 0 V - 5 V)\n",
    "- PWM digital I/O pins\n",
    "  - 6 (PWM frequency configurable, PWM duty cycle can be set with a resolution of 8-bit)\n",
    "- Supporting electroncis on breadboard\n",
    "  - Voltage to the electromagnet is set by a PWM output driving a MOSFET which is connected to a DC voltage regulator fed from an external power supply\n",
    "\n",
    "<img src=\"images/Arduino_Uno_-_R3.jpg\" alt=\"Arduino Uno Board\" title=\"Arduino Uno Board\"/>\n",
    "\n",
    "### Use of Modelica_Synchronous Library\n",
    "\n",
    "Sample and hold blocks modeling following effects:\n",
    "\n",
    "- Computational delay between input and output (one sample period).\n",
    "- Actuating variable $v$ is limited between $0\\,\\mathrm{V}\\leq v \\leq 1.3\\,\\mathrm{V}$ using 8-bit quantization.\n",
    "- ADC 10-bit resolution in $[0\\,\\mathrm{V}, 5\\,\\mathrm{V}]$ for measurement variable $e$.\n",
    "\n",
    "<img src=\"images/MagLev_Diagram.png\" alt=\"Closed-loop magnetic levitation system with clocked controller model\" title=\"Closed-loop magnetic levitation system with clocked controller model\"/>\n",
    "\n",
    "Martin Otter, Bernhard Thiele, and Hilding Elmqvist. A Library for Synchronous Control Systems in Modelica. In Martin Otter and Dirk Zimmer, editors, _9th Int. Modelica Conference_, Munich, Germany, September 2012. [doi:10.3384/ecp1207627](http://dx.doi.org/10.3384/ecp1207627).\n",
    "\n",
    "### Simulation results\n",
    "\n",
    "Example of using the \"low-level\" API for creating Figure 6 in the paper (Simulation results of the sampled-data model for different ADC quantization settings and an initial distance d0 = 0.019 m):\n",
    "\n",
    "1. Create simulation result files\n",
    "2. Read result files and create plots"
   ]
  },
  {
   "cell_type": "code",
   "execution_count": 1,
   "metadata": {},
   "outputs": [
    {
     "name": "stdout",
     "output_type": "stream",
     "text": [
      "LoadModel: /usr/lib/omlibrary/Modelica_Synchronous 0.92.1/package.moLoadFile: /home/bernhard/bt/dev/MagLevApp/ML.moNotification: Skipped loading package Modelica_DeviceDrivers (1.6.0,default) using MODELICAPATH /usr/bin/../lib/omlibrary:/home/bernhard/.openmodelica/libraries/ (uses-annotation may be wrong).\n",
      "LOG_SUCCESS       | info    | The initialization finished successfully without homotopy method.\n",
      "LOG_SUCCESS       | info    | The simulation finished successfully.\n",
      "LOG_SUCCESS       | info    | The initialization finished successfully without homotopy method.\n",
      "LOG_SUCCESS       | info    | The simulation finished successfully.\n",
      "LOG_SUCCESS       | info    | The initialization finished successfully without homotopy method.\n",
      "LOG_SUCCESS       | info    | The simulation finished successfully.\n"
     ]
    }
   ],
   "source": [
    "using OMJulia\n",
    "AVRcl = OMJulia.OMCSession()\n",
    "\n",
    "res = sendExpression(AVRcl, \"loadModel(Modelica)\")\n",
    "if (!res) print(sendExpression(AVRcl, \"getErrorString()\")) end\n",
    "\n",
    "res = sendExpression(AVRcl, \"loadModel(Modelica_Synchronous)\")\n",
    "if (res)\n",
    "    res = sendExpression(AVRcl, \"getSourceFile(Modelica_Synchronous)\")\n",
    "    print(\"LoadModel: \" * res)\n",
    "else\n",
    "    print(sendExpression(AVRcl, \"getErrorString()\"))\n",
    "end\n",
    "\n",
    "res = sendExpression(AVRcl, \"loadFile(\\\"ML.mo\\\")\")\n",
    "if (res)\n",
    "    res = sendExpression(AVRcl, \"getSourceFile(ML)\")\n",
    "    print(\"LoadFile: \" * res)\n",
    "else\n",
    "    print(sendExpression(AVRcl, \"getErrorString()\"))\n",
    "end\n",
    "\n",
    "res = sendExpression(AVRcl, \"setLanguageStandard(\\\"latest\\\")\")\n",
    "if (!res) print(sendExpression(AVRcl, \"getErrorString()\")) end\n",
    "\n",
    "mkpath(\"simdir\")\n",
    "sendExpression(AVRcl, \"cd(\\\"simdir\\\")\")\n",
    "res = sendExpression(AVRcl, \"buildModel(ML.MagLev_AVRcl, stopTime=5.0, fileNamePrefix=\\\"AVRcl\\\", outputFormat=\\\"csv\\\")\")\n",
    "print(sendExpression(AVRcl, \"getErrorString()\"))\n",
    "\n",
    "cd(\"simdir\")\n",
    "run(`./AVRcl -r=../res_Default.csv`)\n",
    "run(`./AVRcl -override=sample1.bits=16 -r=../res_e_0_5_16.csv`)\n",
    "run(`./AVRcl -override=sample1.yMin=2.5,sample1.yMax=3.5 -r=../res_e_2.5_3.5_10.csv`)\n",
    "cd(\"..\")"
   ]
  },
  {
   "cell_type": "markdown",
   "metadata": {},
   "source": [
    "**Caution (2019-03-10):** Julia v1.1.0 might print a lot of deprecation warnings when executing the code below. The actual plot is then \"hidden\" in the warnings."
   ]
  },
  {
   "cell_type": "code",
   "execution_count": null,
   "metadata": {},
   "outputs": [],
   "source": [
    "using Plots, CSV, LaTeXStrings\n",
    "pyplot()\n",
    "\n",
    "d1 = CSV.read(\"res_Default.csv\")\n",
    "d2 = CSV.read(\"res_e_2.5_3.5_10.csv\")\n",
    "d3 = CSV.read(\"res_e_0_5_16.csv\")\n",
    "\n",
    "lp1 = latexstring(\"ADC 10-bit resolution in \\$[0\\\\,\\\\mathrm{V},5\\\\,\\\\mathrm{V}]\\$\")\n",
    "lp2 = latexstring(\"ADC 10-bit resolution in \\$[2.5\\\\,\\\\mathrm{V},3.5\\\\,\\\\mathrm{V}]\\$\")\n",
    "lp3 = latexstring(\"ADC 16-bit resolution in \\$[0\\\\,\\\\mathrm{V},5\\\\,\\\\mathrm{V}]\\$\")\n",
    "pa1 = plot(d1[:time], d1[Symbol(\"magLevNL.d\")],  line=(:dot), label=lp1, legend=:topright, xlabel=\"time [s]\", ylabel=\"magLevNL.d [m]\")\n",
    "pa2 = plot!(d2[:time], d2[Symbol(\"magLevNL.d\")], line=(:dashdot), label=lp2)\n",
    "pa3 = plot!(d3[:time], d3[Symbol(\"magLevNL.d\")], line=(:solid), label=lp3)\n",
    "\n",
    "pb1 = plot(d1[:time], d1[Symbol(\"sample1.y\")], xlims = (4,4.03), ylims = (2.78,2.8), line=(:dot, :steppost), label=\"\", xlabel=\"time [s]\", ylabel=\"sample1.y [V]\")\n",
    "pb2 = plot!(d2[:time], d2[Symbol(\"sample1.y\")], xlims = (4,4.03), ylims = (2.78,2.8), line=(:dashdot, :steppost), label=\"\")\n",
    "pb3 = plot!(d3[:time], d3[Symbol(\"sample1.y\")], xlims = (4,4.03), ylims = (2.78,2.8), line=(:solid, :steppost), label=\"\")\n",
    "\n",
    "pc1 = plot(d1[:time], d1[Symbol(\"magLevNL.v\")], xlims = (4,4.03), line=(:dot, :steppost), label=\"\",xlabel=\"time [s]\", ylabel=\"hold1.y [V]\")\n",
    "pc2 = plot!(d2[:time], d2[Symbol(\"magLevNL.v\")], xlims = (4,4.03), line=(:dashdot, :steppost), label=\"\")\n",
    "pc3 = plot!(d3[:time], d3[Symbol(\"magLevNL.v\")], xlims = (4,4.03),  line=(:solid, :steppost), label=\"\")\n",
    "\n",
    "pbc = plot(pb3,pc3,layout=(1,2))\n",
    "p = plot(pa3,pbc, layout=(2,1))\n",
    "#savefig(p,\"Maglev_ADCPlot.pdf\")"
   ]
  },
  {
   "cell_type": "markdown",
   "metadata": {},
   "source": [
    "- Simulation reveals severe control degradation for the considered digital controller which is mainly due to ADC quantization effects of the Hall effect sensor output (measurement variable $e$).\n",
    "- Simulation results for three ADC scenarios are plotted in the graph.\n",
    "- The results indicate that using a suitable signal conditioning circuit mapping the relevant operating range ($[2.5\\,\\mathrm{V}, 3.5\\,\\mathrm{V}]$) to the full-scale voltage range of the Arduino ADC should significantly improve the control performance."
   ]
  },
  {
   "cell_type": "markdown",
   "metadata": {},
   "source": [
    "## 6. Real-Time Target Code\n",
    "\n",
    "- First approach: Simply hand translate the Modelica code to Arduino C code.\n",
    "- Second approach: Use OMC's experimental embedded code generation target together with AVR (Arduino) blocks from the Modelica_DeviceDrivers library.\n",
    "\n",
    "<img src=\"images/MagLev_ACGModelDiagram.png\" alt=\"The input model for the code generator consisting of the control algorithm and hardware related blocks.\" title=\"The input model for the code generator consisting of the control algorithm and hardware related blocks\"/>\n",
    "Input model for the code generator tuned at the actual demonstrator using a (non-ideal) signal conditioning circuit for measurement variable $e$.\n",
    "\n",
    "\n",
    "Bernhard Thiele, Thomas Beutlich, Volker Waurich, Martin Sjölund, and Tobias Bellmann. Towards a Standard-Conform Platform-Generic and Feature-Rich Modelica Device Drivers Library. In In Jiří Kofránek and Francesco Casella, editors, _12th Int. Modelica Conference_, Prague, Czech Republic, May 2017. [doi:10.3384/ecp17132713](http://dx.doi.org/10.3384/ecp17132713)."
   ]
  },
  {
   "cell_type": "markdown",
   "metadata": {},
   "source": [
    "## 7. Demonstrator\n",
    "\n",
    "<img src=\"images/MagLev_Arduino.jpg\" alt=\"TArduino controlled electromagnetic levitation system.\" title=\"Arduino controlled electromagnetic levitation system\"/>"
   ]
  },
  {
   "cell_type": "markdown",
   "metadata": {},
   "source": [
    "## Conclusions\n",
    "\n",
    "- With a suitable Julia API for Modelica the two languages can complement each other.\n",
    "- Simple web technology based GUIs for Modelica simulations can be created in a few lines of code.\n",
    "- Further API enhancements, like adding a “find equilibrium” function, could reduce code duplication and increase user convenience.\n",
    "- Cons: Julia's JIT compilation overhead when executing (plotting) code the \"first time\"\n",
    "- The example can be readily reproduced, e.g., in the context of a lab session in control education"
   ]
  },
  {
   "cell_type": "code",
   "execution_count": null,
   "metadata": {},
   "outputs": [],
   "source": []
  }
 ],
 "metadata": {
  "kernelspec": {
   "display_name": "Julia 1.3.1",
   "language": "julia",
   "name": "julia-1.3"
  },
  "language_info": {
   "file_extension": ".jl",
   "mimetype": "application/julia",
   "name": "julia",
   "version": "1.3.1"
  }
 },
 "nbformat": 4,
 "nbformat_minor": 2
}
